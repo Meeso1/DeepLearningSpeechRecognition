{
 "cells": [
  {
   "cell_type": "code",
   "execution_count": 1,
   "metadata": {},
   "outputs": [],
   "source": [
    "import numpy as np\n",
    "import random\n",
    "import matplotlib.pyplot as plt\n",
    "\n",
    "from Constants.Paths import *\n",
    "from Constants.Labels import *\n",
    "from Unpacking.PrepareAudioFiles import prepare_audio_files\n",
    "from Preprocessing.GenerateSpectrograms import generate_all_spectrograms\n",
    "from SpectrogramLoading import *\n",
    "from Models.TrainingHistory import TrainingHistory\n",
    "from Models.CnnModel import CnnModel\n",
    "from Models.WandbDetails import WandbDetails\n",
    "from Models.InputPadding import pad_to_length\n",
    "from Models.HistoryPlots import plot_loss_history, plot_accuracy_history"
   ]
  },
  {
   "cell_type": "code",
   "execution_count": 2,
   "metadata": {},
   "outputs": [],
   "source": [
    "# Before running this notebook, do the following:\n",
    "# - Unzip 'tensorflow-speech-recognition-challenge.zip' to 'Dataset' folder\n",
    "# - Remove everything except 'train.7z' and 'test.7z'\n",
    "# - Unzip 'train.7z' and 'test.7z' also to 'Dataset' folder (not to new 'train'/'test' folders)\n",
    "# - Make sure that there is only one level of folders named 'train'/'test' (not 'Dataset/train/train/...')"
   ]
  },
  {
   "cell_type": "code",
   "execution_count": null,
   "metadata": {},
   "outputs": [],
   "source": [
    "prepare_audio_files()\n",
    "generate_all_spectrograms(backend=\"soundfile\")"
   ]
  },
  {
   "cell_type": "code",
   "execution_count": 4,
   "metadata": {},
   "outputs": [],
   "source": [
    "train_paths, val_paths = get_divided_paths_with_labels()\n",
    "\n",
    "random.seed(42)\n",
    "random.shuffle(train_paths)\n",
    "random.shuffle(val_paths)\n",
    "\n",
    "#train_paths = train_paths[:1000]\n",
    "#val_paths = val_paths[:1000]\n",
    "\n",
    "train = [load_spectrogram_for_path(path_with_label) for path_with_label in train_paths]\n",
    "validation = [load_spectrogram_for_path(path_with_label) for path_with_label in val_paths]"
   ]
  },
  {
   "cell_type": "code",
   "execution_count": 5,
   "metadata": {},
   "outputs": [],
   "source": [
    "X_train, y_train, label_indexes = spectrograms_to_x_y(train)\n",
    "X_validation, y_validation, _ = spectrograms_to_x_y(validation, label_indexes)\n",
    "\n",
    "max_length = max(x.shape[1] for x in [*X_validation, *X_train])\n",
    "X_validation = pad_to_length(X_validation, max_length)\n",
    "X_train = pad_to_length(X_train, max_length)"
   ]
  },
  {
   "cell_type": "code",
   "execution_count": 10,
   "metadata": {},
   "outputs": [],
   "source": [
    "from Models.TransformerModel import TransformerModel\n",
    "\n",
    "transformer_model = TransformerModel(\n",
    "    classes=labels,\n",
    "    learning_rate=1e-4,\n",
    "    lr_decay=1e-4,\n",
    "    beta_1=0.9,\n",
    "    beta_2=0.999,\n",
    "    eps=1e-8,\n",
    "    # wandb_details=WandbDetails(\n",
    "    #     project=\"dl-speech-recognition\",\n",
    "    #     experiment_name=\"transformer-test\",\n",
    "    #     config_name=\"first-transformer\",\n",
    "    #     artifact_name=\"transformer-model\"\n",
    "    # )\n",
    ")"
   ]
  },
  {
   "cell_type": "code",
   "execution_count": 7,
   "metadata": {},
   "outputs": [],
   "source": [
    "cnn_model = CnnModel(\n",
    "    classes=labels,\n",
    "    learning_rate=1e-4,\n",
    "    lr_decay=1e-4,\n",
    "    beta_1=0.9,\n",
    "    beta_2=0.999,\n",
    "    eps=1e-8,\n",
    "    classifier_dropout_1=0.1,\n",
    "    classifier_dropout_2=0.1,\n",
    "    classifier_dropout_3=0.1,\n",
    "    wandb_details=WandbDetails(\n",
    "        project=\"dl-speech-recognition\",\n",
    "        experiment_name=\"integration-test-3\",\n",
    "        config_name=\"first-cnn\",\n",
    "        artifact_name=\"test-model\"\n",
    "    )\n",
    ")"
   ]
  },
  {
   "cell_type": "code",
   "execution_count": null,
   "metadata": {},
   "outputs": [],
   "source": [
    "transformer_model.train((X_train, y_train), (X_validation, y_validation), epochs=10, batch_size=32)"
   ]
  },
  {
   "cell_type": "code",
   "execution_count": null,
   "metadata": {},
   "outputs": [],
   "source": [
    "_, ax = plt.subplots(2, 1, figsize=(10, 11))\n",
    "plot_loss_history(transformer_model.get_history(), ax[0])\n",
    "plot_accuracy_history(transformer_model.get_history(), ax[1])\n",
    "plt.show()"
   ]
  },
  {
   "cell_type": "code",
   "execution_count": null,
   "metadata": {},
   "outputs": [],
   "source": [
    "import optimization\n",
    "from skopt.space import Real\n",
    "\n",
    "\n",
    "def evaluate_cnn_params(**params):\n",
    "    cnn_model = CnnModel(\n",
    "        classes=labels,\n",
    "        learning_rate=params[\"learning_rate\"],\n",
    "        lr_decay=params[\"lr_decay\"],\n",
    "        beta_1=1-params[\"inv_beta_1\"],\n",
    "        beta_2=1-params[\"inv_beta_2\"],\n",
    "        eps=params[\"eps\"],\n",
    "        classifier_dropout_1=params[\"classifier_dropout_1\"],\n",
    "        classifier_dropout_2=params[\"classifier_dropout_2\"],\n",
    "        classifier_dropout_3=params[\"classifier_dropout_3\"],\n",
    "        print_every=None # Disable printing epoch info\n",
    "    )\n",
    "    \n",
    "    # TODO: We robably need more epochs in real search\n",
    "    cnn_model.train((X_train, y_train), (X_validation, y_validation), epochs=10, batch_size=32)\n",
    "    \n",
    "    # Use last validation accuracy as metric - could also evaluate on test set directly\n",
    "    return cnn_model.get_history().val_accuracy[-1] \n",
    "\n",
    "spaces = {\n",
    "    \"learning_rate\": Real(1e-6, 1e-2, \"log-uniform\"),\n",
    "    \"lr_decay\": Real(1e-6, 1e-2, \"log-uniform\"),\n",
    "    \"inv_beta_1\": Real(1e-4, 0.5, \"log-uniform\"),\n",
    "    \"inv_beta_2\": Real(1e-6, 0.1, \"log-uniform\"),\n",
    "    \"eps\": Real(1e-8, 1e-3, \"log-uniform\"),\n",
    "    \"classifier_dropout_1\": Real(0.0, 0.3, \"uniform\"),\n",
    "    \"classifier_dropout_2\": Real(0.0, 0.3, \"uniform\"),\n",
    "    \"classifier_dropout_3\": Real(0.0, 0.3, \"uniform\")\n",
    "}\n",
    "\n",
    "best_params, best_accuracy = optimization.bayes_search(evaluate_cnn_params, spaces, iterations=10)"
   ]
  }
 ],
 "metadata": {
  "kernelspec": {
   "display_name": ".venv",
   "language": "python",
   "name": "python3"
  },
  "language_info": {
   "codemirror_mode": {
    "name": "ipython",
    "version": 3
   },
   "file_extension": ".py",
   "mimetype": "text/x-python",
   "name": "python",
   "nbconvert_exporter": "python",
   "pygments_lexer": "ipython3",
   "version": "3.11.12"
  }
 },
 "nbformat": 4,
 "nbformat_minor": 2
}
