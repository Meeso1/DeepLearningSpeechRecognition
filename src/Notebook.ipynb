{
 "cells": [
  {
   "cell_type": "code",
   "execution_count": 1,
   "metadata": {},
   "outputs": [],
   "source": [
    "import numpy as np\n",
    "import random\n",
    "import matplotlib.pyplot as plt\n",
    "\n",
    "from Constants.Paths import *\n",
    "from Constants.Labels import *\n",
    "from Unpacking.PrepareAudioFiles import prepare_audio_files\n",
    "from Preprocessing.GenerateSpectrograms import generate_all_spectrograms\n",
    "from SpectrogramLoading import *\n",
    "from Models.TrainingHistory import TrainingHistory\n",
    "from Models.CnnModel import CnnModel, WandbDetails\n",
    "from Models.InputPadding import pad_to_same_size\n",
    "from Models.HistoryPlots import plot_loss_history, plot_accuracy_history"
   ]
  },
  {
   "cell_type": "code",
   "execution_count": 2,
   "metadata": {},
   "outputs": [],
   "source": [
    "# Before running this notebook, do the following:\n",
    "# - Unzip 'tensorflow-speech-recognition-challenge.zip' to 'Dataset' folder\n",
    "# - Remove everything except 'train.7z' and 'test.7z'\n",
    "# - Unzip 'train.7z' and 'test.7z' also to 'Dataset' folder (not to new 'train'/'test' folders)\n",
    "# - Make sure that there is only one level of folders named 'train'/'test' (not 'Dataset/train/train/...')"
   ]
  },
  {
   "cell_type": "code",
   "execution_count": null,
   "metadata": {},
   "outputs": [],
   "source": [
    "prepare_audio_files()\n",
    "generate_all_spectrograms(backend=\"soundfile\")"
   ]
  },
  {
   "cell_type": "code",
   "execution_count": 4,
   "metadata": {},
   "outputs": [],
   "source": [
    "train_paths, val_paths = get_divided_paths_with_labels()\n",
    "\n",
    "random.seed(42)\n",
    "random.shuffle(train_paths)\n",
    "random.shuffle(val_paths)\n",
    "\n",
    "#train_paths = train_paths[:1000]\n",
    "#val_paths = val_paths[:1000]\n",
    "\n",
    "train = [load_spectrogram_for_path(path_with_label) for path_with_label in train_paths]\n",
    "validation = [load_spectrogram_for_path(path_with_label) for path_with_label in val_paths]"
   ]
  },
  {
   "cell_type": "code",
   "execution_count": 5,
   "metadata": {},
   "outputs": [],
   "source": [
    "X_train, y_train, label_indexes = spectrograms_to_x_y(train)\n",
    "X_validation, y_validation, _ = spectrograms_to_x_y(validation, label_indexes)\n",
    "\n",
    "X_validation = pad_to_same_size(X_validation)\n",
    "X_train = pad_to_same_size(X_train)"
   ]
  },
  {
   "cell_type": "code",
   "execution_count": 6,
   "metadata": {},
   "outputs": [],
   "source": [
    "model = CnnModel(\n",
    "    classes=labels,\n",
    "    learning_rate=1e-4,\n",
    "    lr_decay=1e-4,\n",
    "    beta_1=0.9,\n",
    "    beta_2=0.999,\n",
    "    eps=1e-8,\n",
    "    classifier_dropout_1=0.1,\n",
    "    classifier_dropout_2=0.1,\n",
    "    classifier_dropout_3=0.1,\n",
    "    wandb_details=WandbDetails(\n",
    "        project=\"dl-speech-recognition\",\n",
    "        experiment_name=\"integration-test-3\",\n",
    "        config_name=\"first-cnn\",\n",
    "        artifact_name=\"test-model\"\n",
    "    )\n",
    ")"
   ]
  },
  {
   "cell_type": "code",
   "execution_count": null,
   "metadata": {},
   "outputs": [],
   "source": [
    "model.train((X_train, y_train), (X_validation, y_validation), epochs=100, batch_size=32)"
   ]
  },
  {
   "cell_type": "code",
   "execution_count": null,
   "metadata": {},
   "outputs": [],
   "source": [
    "_, ax = plt.subplots(2, 1, figsize=(10, 11))\n",
    "plot_loss_history(model.get_history(), ax[0])\n",
    "plot_accuracy_history(model.get_history(), ax[1])\n",
    "plt.show()"
   ]
  }
 ],
 "metadata": {
  "kernelspec": {
   "display_name": ".venv",
   "language": "python",
   "name": "python3"
  },
  "language_info": {
   "codemirror_mode": {
    "name": "ipython",
    "version": 3
   },
   "file_extension": ".py",
   "mimetype": "text/x-python",
   "name": "python",
   "nbconvert_exporter": "python",
   "pygments_lexer": "ipython3",
   "version": "3.13.3"
  }
 },
 "nbformat": 4,
 "nbformat_minor": 2
}
