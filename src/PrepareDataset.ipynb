{
    "cells": [
        {
            "cell_type": "code",
            "execution_count": 1,
            "metadata": {},
            "outputs": [],
            "source": [
                "from Unpacking.SplitNoiseFiles import split_files\n",
                "from Unpacking.ExtendFiles import extend_files\n",
                "from Unpacking.SplitDataset import split_dataset\n",
                "from Preprocessing.GenerateSpectrograms import generate_all_spectrograms"
            ]
        },
        {
            "cell_type": "code",
            "execution_count": null,
            "metadata": {},
            "outputs": [],
            "source": [
                "# - Unzip 'tensorflow-speech-recognition-challenge.zip' to 'Dataset' folder\n",
                "# - Remove everything except 'train.7z' and 'test.7z'\n",
                "# - Unzip 'train.7z' and 'test.7z' also to 'Dataset' folder (not to new 'train'/'test' folders)\n",
                "# - Make sure that there is only one level of folders named 'train'/'test' (not 'Dataset/train/train/...')"
            ]
        },
        {
            "cell_type": "code",
            "execution_count": 2,
            "metadata": {},
            "outputs": [],
            "source": [
                "split_files()"
            ]
        },
        {
            "cell_type": "code",
            "execution_count": 3,
            "metadata": {},
            "outputs": [],
            "source": [
                "extend_files()"
            ]
        },
        {
            "cell_type": "code",
            "execution_count": null,
            "metadata": {},
            "outputs": [],
            "source": [
                "split_dataset(training_percentage=80)"
            ]
        },
        {
            "cell_type": "code",
            "execution_count": null,
            "metadata": {},
            "outputs": [],
            "source": [
                "generate_all_spectrograms(backend=\"soundfile\")"
            ]
        }
    ],
    "metadata": {
        "kernelspec": {
            "display_name": ".venv",
            "language": "python",
            "name": "python3"
        },
        "language_info": {
            "codemirror_mode": {
                "name": "ipython",
                "version": 3
            },
            "file_extension": ".py",
            "mimetype": "text/x-python",
            "name": "python",
            "nbconvert_exporter": "python",
            "pygments_lexer": "ipython3",
            "version": "3.13.2"
        }
    },
    "nbformat": 4,
    "nbformat_minor": 2
}
