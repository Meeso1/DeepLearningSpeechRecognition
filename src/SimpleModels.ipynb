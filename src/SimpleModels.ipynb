{
 "cells": [
  {
   "cell_type": "code",
   "execution_count": null,
   "metadata": {},
   "outputs": [],
   "source": [
    "import numpy as np\n",
    "import random\n",
    "import matplotlib.pyplot as plt\n",
    "\n",
    "from Constants.Paths import *\n",
    "from Constants.Labels import *\n",
    "from SpectrogramLoading import *\n",
    "from Models.TrainingHistory import TrainingHistory\n",
    "from Models.CnnModel import CnnModel, WandbDetails\n",
    "from Models.InputPadding import pad_to_same_size\n",
    "from Models.HistoryPlots import plot_loss_history, plot_accuracy_history"
   ]
  },
  {
   "cell_type": "code",
   "execution_count": null,
   "metadata": {},
   "outputs": [],
   "source": [
    "train_paths, val_paths = get_divided_paths_with_labels()\n",
    "\n",
    "random.seed(42)\n",
    "random.shuffle(train_paths)\n",
    "random.shuffle(val_paths)"
   ]
  },
  {
   "cell_type": "code",
   "execution_count": null,
   "metadata": {},
   "outputs": [],
   "source": [
    "model = CnnModel(\n",
    "    classes=labels,\n",
    "    learning_rate=1e-3,\n",
    "    lr_decay=1e-4,\n",
    "    beta_1=0.9,\n",
    "    beta_2=0.999,\n",
    "    eps=1e-8,\n",
    "    extractor_dropout_1=0.0,\n",
    "    extractor_dropout_2=0.0,\n",
    "    extractor_dropout_3=0.0,\n",
    "    classifier_dropout_1=0.0,\n",
    "    classifier_dropout_2=0.0,\n",
    "    classifier_dropout_3=0.0,\n",
    "    wandb_details=WandbDetails(\n",
    "        project=\"test-project\",\n",
    "        experiment_name=\"integration-test-5\",\n",
    "        config_name=\"first-cnn\",\n",
    "        artifact_name=\"test-model\"\n",
    "    )\n",
    ")"
   ]
  },
  {
   "cell_type": "code",
   "execution_count": null,
   "metadata": {},
   "outputs": [],
   "source": [
    "model.train(train_paths, val_paths, epochs=25, batch_size=32)"
   ]
  },
  {
   "cell_type": "code",
   "execution_count": null,
   "metadata": {},
   "outputs": [],
   "source": [
    "_, ax = plt.subplots(2, 1, figsize=(10, 11))\n",
    "plot_loss_history(model.get_history(), ax[0])\n",
    "plot_accuracy_history(model.get_history(), ax[1])\n",
    "plt.show()"
   ]
  }
 ],
 "metadata": {
  "kernelspec": {
   "display_name": ".venv",
   "language": "python",
   "name": "python3"
  },
  "language_info": {
   "codemirror_mode": {
    "name": "ipython",
    "version": 3
   },
   "file_extension": ".py",
   "mimetype": "text/x-python",
   "name": "python",
   "nbconvert_exporter": "python",
   "pygments_lexer": "ipython3",
   "version": "3.13.2"
  }
 },
 "nbformat": 4,
 "nbformat_minor": 2
}
